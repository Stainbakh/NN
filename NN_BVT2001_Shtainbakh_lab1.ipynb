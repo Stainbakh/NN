{
 "cells": [
  {
   "cell_type": "code",
   "execution_count": 3,
   "metadata": {
    "id": "c0LXANdBZdcy"
   },
   "outputs": [],
   "source": [
    "import cv2\n",
    "import numpy as np\n",
    "import matplotlib.pyplot as plt\n",
    "import matplotlib.image as mpimg\n",
    "import math\n",
    "from tqdm import tqdm"
   ]
  },
  {
   "cell_type": "code",
   "execution_count": 6,
   "metadata": {
    "colab": {
     "base_uri": "https://localhost:8080/",
     "height": 266
    },
    "id": "mpCzj3yWa2b_",
    "outputId": "536e379e-e719-4741-d32b-36a1f6701017"
   },
   "outputs": [
    {
     "ename": "FileNotFoundError",
     "evalue": "[Errno 2] No such file or directory: 'dataset/0_1.jpg'",
     "output_type": "error",
     "traceback": [
      "\u001b[1;31m---------------------------------------------------------------------------\u001b[0m",
      "\u001b[1;31mFileNotFoundError\u001b[0m                         Traceback (most recent call last)",
      "Cell \u001b[1;32mIn[6], line 10\u001b[0m\n\u001b[0;32m      8\u001b[0m \u001b[38;5;28;01mfor\u001b[39;00m i \u001b[38;5;129;01min\u001b[39;00m \u001b[38;5;28mrange\u001b[39m(\u001b[38;5;241m0\u001b[39m, \u001b[38;5;241m4\u001b[39m):\n\u001b[0;32m      9\u001b[0m   \u001b[38;5;28;01mfor\u001b[39;00m j \u001b[38;5;129;01min\u001b[39;00m \u001b[38;5;28mrange\u001b[39m(\u001b[38;5;241m0\u001b[39m, \u001b[38;5;241m4\u001b[39m):\n\u001b[1;32m---> 10\u001b[0m     src_x_train\u001b[38;5;241m.\u001b[39mappend(cv2\u001b[38;5;241m.\u001b[39mcvtColor(\u001b[43mmpimg\u001b[49m\u001b[38;5;241;43m.\u001b[39;49m\u001b[43mimread\u001b[49m\u001b[43m(\u001b[49m\u001b[38;5;124;43m'\u001b[39;49m\u001b[38;5;124;43mdataset/\u001b[39;49m\u001b[38;5;132;43;01m{}\u001b[39;49;00m\u001b[38;5;124;43m_\u001b[39;49m\u001b[38;5;132;43;01m{}\u001b[39;49;00m\u001b[38;5;124;43m.jpg\u001b[39;49m\u001b[38;5;124;43m'\u001b[39;49m\u001b[38;5;241;43m.\u001b[39;49m\u001b[43mformat\u001b[49m\u001b[43m(\u001b[49m\u001b[43mi\u001b[49m\u001b[43m,\u001b[49m\u001b[43m \u001b[49m\u001b[43mj\u001b[49m\u001b[43m \u001b[49m\u001b[38;5;241;43m+\u001b[39;49m\u001b[43m \u001b[49m\u001b[38;5;241;43m1\u001b[39;49m\u001b[43m)\u001b[49m\u001b[43m)\u001b[49m, cv2\u001b[38;5;241m.\u001b[39mCOLOR_BGR2GRAY))\n\u001b[0;32m     11\u001b[0m     y_train\u001b[38;5;241m.\u001b[39mappend([\u001b[38;5;241m1\u001b[39m \u001b[38;5;28;01mif\u001b[39;00m k \u001b[38;5;241m==\u001b[39m i \u001b[38;5;28;01melse\u001b[39;00m \u001b[38;5;241m0\u001b[39m \u001b[38;5;28;01mfor\u001b[39;00m k \u001b[38;5;129;01min\u001b[39;00m \u001b[38;5;28mrange\u001b[39m(\u001b[38;5;241m4\u001b[39m)])\n\u001b[0;32m     13\u001b[0m \u001b[38;5;28;01mfor\u001b[39;00m i \u001b[38;5;129;01min\u001b[39;00m \u001b[38;5;28mrange\u001b[39m(\u001b[38;5;241m0\u001b[39m, \u001b[38;5;241m4\u001b[39m):\n",
      "File \u001b[1;32mC:\\Python310\\lib\\site-packages\\matplotlib\\image.py:1541\u001b[0m, in \u001b[0;36mimread\u001b[1;34m(fname, format)\u001b[0m\n\u001b[0;32m   1534\u001b[0m \u001b[38;5;28;01mif\u001b[39;00m \u001b[38;5;28misinstance\u001b[39m(fname, \u001b[38;5;28mstr\u001b[39m) \u001b[38;5;129;01mand\u001b[39;00m \u001b[38;5;28mlen\u001b[39m(parse\u001b[38;5;241m.\u001b[39murlparse(fname)\u001b[38;5;241m.\u001b[39mscheme) \u001b[38;5;241m>\u001b[39m \u001b[38;5;241m1\u001b[39m:\n\u001b[0;32m   1535\u001b[0m     \u001b[38;5;66;03m# Pillow doesn't handle URLs directly.\u001b[39;00m\n\u001b[0;32m   1536\u001b[0m     \u001b[38;5;28;01mraise\u001b[39;00m \u001b[38;5;167;01mValueError\u001b[39;00m(\n\u001b[0;32m   1537\u001b[0m         \u001b[38;5;124m\"\u001b[39m\u001b[38;5;124mPlease open the URL for reading and pass the \u001b[39m\u001b[38;5;124m\"\u001b[39m\n\u001b[0;32m   1538\u001b[0m         \u001b[38;5;124m\"\u001b[39m\u001b[38;5;124mresult to Pillow, e.g. with \u001b[39m\u001b[38;5;124m\"\u001b[39m\n\u001b[0;32m   1539\u001b[0m         \u001b[38;5;124m\"\u001b[39m\u001b[38;5;124m``np.array(PIL.Image.open(urllib.request.urlopen(url)))``.\u001b[39m\u001b[38;5;124m\"\u001b[39m\n\u001b[0;32m   1540\u001b[0m         )\n\u001b[1;32m-> 1541\u001b[0m \u001b[38;5;28;01mwith\u001b[39;00m \u001b[43mimg_open\u001b[49m\u001b[43m(\u001b[49m\u001b[43mfname\u001b[49m\u001b[43m)\u001b[49m \u001b[38;5;28;01mas\u001b[39;00m image:\n\u001b[0;32m   1542\u001b[0m     \u001b[38;5;28;01mreturn\u001b[39;00m (_pil_png_to_float_array(image)\n\u001b[0;32m   1543\u001b[0m             \u001b[38;5;28;01mif\u001b[39;00m \u001b[38;5;28misinstance\u001b[39m(image, PIL\u001b[38;5;241m.\u001b[39mPngImagePlugin\u001b[38;5;241m.\u001b[39mPngImageFile) \u001b[38;5;28;01melse\u001b[39;00m\n\u001b[0;32m   1544\u001b[0m             pil_to_array(image))\n",
      "File \u001b[1;32mC:\\Python310\\lib\\site-packages\\PIL\\Image.py:3227\u001b[0m, in \u001b[0;36mopen\u001b[1;34m(fp, mode, formats)\u001b[0m\n\u001b[0;32m   3224\u001b[0m     filename \u001b[38;5;241m=\u001b[39m fp\n\u001b[0;32m   3226\u001b[0m \u001b[38;5;28;01mif\u001b[39;00m filename:\n\u001b[1;32m-> 3227\u001b[0m     fp \u001b[38;5;241m=\u001b[39m \u001b[43mbuiltins\u001b[49m\u001b[38;5;241;43m.\u001b[39;49m\u001b[43mopen\u001b[49m\u001b[43m(\u001b[49m\u001b[43mfilename\u001b[49m\u001b[43m,\u001b[49m\u001b[43m \u001b[49m\u001b[38;5;124;43m\"\u001b[39;49m\u001b[38;5;124;43mrb\u001b[39;49m\u001b[38;5;124;43m\"\u001b[39;49m\u001b[43m)\u001b[49m\n\u001b[0;32m   3228\u001b[0m     exclusive_fp \u001b[38;5;241m=\u001b[39m \u001b[38;5;28;01mTrue\u001b[39;00m\n\u001b[0;32m   3230\u001b[0m \u001b[38;5;28;01mtry\u001b[39;00m:\n",
      "\u001b[1;31mFileNotFoundError\u001b[0m: [Errno 2] No such file or directory: 'dataset/0_1.jpg'"
     ]
    },
    {
     "data": {
      "image/png": "[encoded data removed]",
      "text/plain": [
       "<Figure size 640x480 with 1 Axes>"
      ]
     },
     "metadata": {},
     "output_type": "display_data"
    }
   ],
   "source": [
    "src_x_train = []\n",
    "y_train = []\n",
    "src_x_test = []\n",
    "y_test = []\n",
    "\n",
    "plt.axis('off')\n",
    "\n",
    "for i in range(0, 4):\n",
    "  for j in range(0, 4):\n",
    "    src_x_train.append(cv2.cvtColor(mpimg.imread('dataset/{}_{}.jpg'.format(i, j + 1)), cv2.COLOR_BGR2GRAY))\n",
    "    y_train.append([1 if k == i else 0 for k in range(4)])\n",
    "\n",
    "for i in range(0, 4):\n",
    "  src_x_test.append(cv2.cvtColor(mpimg.imread('dataset/{}_test.jpg'.format(i)), cv2.COLOR_BGR2GRAY))\n",
    "  y_test.append([1 if k == i else 0 for k in range(4)])\n",
    "\n",
    "plt.imshow(src_x_train[8], cmap='binary')\n",
    "print(y_train[8])\n"
   ]
  },
  {
   "cell_type": "code",
   "execution_count": 6,
   "metadata": {
    "id": "fk45e2VxlRGm"
   },
   "outputs": [],
   "source": [
    "x_train = np.divide(np.array(src_x_train), 255)\n",
    "x_test = np.divide(np.array(src_x_test), 255)"
   ]
  },
  {
   "cell_type": "code",
   "execution_count": 204,
   "metadata": {
    "id": "wKChHC2PZr7Z"
   },
   "outputs": [],
   "source": [
    "from numpy.ma.core import argmax\n",
    "\n",
    "class Model():\n",
    "    def __init__(self, in_features: int, out_features: int):\n",
    "        self.in_features = in_features\n",
    "        self.out_features = out_features\n",
    "        self.weights = np.random.rand(in_features, out_features)\n",
    "\n",
    "    def sigmoid(self, x):\n",
    "      return 1 / (1 + np.exp(-x))\n",
    "\n",
    "    def forward(self, x):\n",
    "        x = np.dot(x, self.weights)\n",
    "        return self.sigmoid(x)\n",
    "    \n",
    "    def correct_weights(self, x, delta, outputs, train_speed_factor):\n",
    "      self.weights = self.weights + np.array([i * delta for i in x]) * train_speed_factor\n",
    "\n",
    "    def train(self, x_train, y_train, epoh, train_speed_factor):\n",
    "        for i in range(epoh):\n",
    "            corrected = 0\n",
    "            all = 0\n",
    "\n",
    "            for (x, y) in zip(x_train, y_train):\n",
    "                x = np.squeeze(np.asarray(x).reshape(-1))\n",
    "                outp = self.forward(x)\n",
    "                delta = y - outp\n",
    "                self.correct_weights(x, delta, train_speed_factor)\n",
    "\n",
    "                corrected += argmax(outp) == argmax(y)\n",
    "                all += 1\n",
    "\n",
    "    def train_until_success(self, x_train, y_train, train_speed_factor):\n",
    "        epoches = 0\n",
    "        success = 0\n",
    "\n",
    "        while (True):\n",
    "          epoches += 1\n",
    "          corrected = 0\n",
    "          all = 0\n",
    "\n",
    "          for (x, y) in zip(x_train, y_train):\n",
    "              x = np.squeeze(np.asarray(x).reshape(-1))\n",
    "              outp = self.forward(x)\n",
    "              delta = y - outp\n",
    "              self.correct_weights(x, delta, train_speed_factor)\n",
    "\n",
    "              corrected += argmax(outp) == argmax(y)\n",
    "              all += 1\n",
    "\n",
    "          if (corrected == all):\n",
    "            success += 1\n",
    "          else:\n",
    "            success = 0\n",
    "\n",
    "          if (success == 4):\n",
    "            print(epoches)\n",
    "            break\n",
    "\n",
    "    def train_until_weights_same(self, x_train, y_train, train_speed_factor):\n",
    "        epoches = 0\n",
    "        prev_results = []\n",
    "\n",
    "        for (x, y) in zip(x_train, y_train):\n",
    "          x = np.squeeze(np.asarray(x).reshape(-1))\n",
    "          outp = self.forward(x)\n",
    "          prev_results.append(outp)\n",
    "\n",
    "        self.weights = np.random.rand(self.in_features, self.out_features)  \n",
    "\n",
    "        while (True):\n",
    "          epoches += 1\n",
    "          all = 0\n",
    "          corrected = 0\n",
    "\n",
    "          for (x, y) in zip(x_train, y_train):\n",
    "              x = np.squeeze(np.asarray(x).reshape(-1))\n",
    "              outp = self.forward(x)\n",
    "              delta = y - outp\n",
    "              self.correct_weights(x, delta, outp, train_speed_factor)\n",
    "\n",
    "              if (np.array_equal(np.around(outp, decimals=6), np.around(prev_results[all], decimals=6))):\n",
    "                corrected += 1\n",
    "\n",
    "              prev_results[all] = outp\n",
    "              all += 1\n",
    "\n",
    "          if (corrected > 15):\n",
    "            print(epoches)\n",
    "            return"
   ]
  },
  {
   "cell_type": "code",
   "execution_count": 207,
   "metadata": {
    "colab": {
     "base_uri": "https://localhost:8080/"
    },
    "id": "EcL4NsFybIHF",
    "outputId": "9a7892e4-4b21-4b60-fe65-25fb1f5746a4"
   },
   "outputs": [
    {
     "name": "stdout",
     "output_type": "stream",
     "text": [
      "757\n"
     ]
    }
   ],
   "source": [
    "model = Model(28*28, 4)\n",
    "#model.train(x_train, y_train, 1000, 0.1)\n",
    "#model.train_until_success(x_train, y_train, 0.0001)\n",
    "model.train_until_weights_same(x_train, y_train, 0.1)"
   ]
  },
  {
   "cell_type": "code",
   "execution_count": 33,
   "metadata": {
    "id": "j0nrYjXfZsD4"
   },
   "outputs": [],
   "source": [
    "def test_model(model, X_test, y_test):\n",
    "  corrected = 0\n",
    "  all = 0\n",
    "  for (x, y) in tqdm(zip(X_test, y_test)):\n",
    "    x = np.squeeze(np.asarray(x).reshape(-1))\n",
    "    outp = model.forward(x)\n",
    "    corrected += argmax(outp) == argmax(y)\n",
    "    all += 1\n",
    "  print(\"acc == \", corrected / all)\n"
   ]
  },
  {
   "cell_type": "code",
   "execution_count": 208,
   "metadata": {
    "colab": {
     "base_uri": "https://localhost:8080/"
    },
    "id": "yPZdlv25sqJi",
    "outputId": "db59cd3c-2824-4d1e-9dbb-c759afa1b449"
   },
   "outputs": [
    {
     "name": "stderr",
     "output_type": "stream",
     "text": [
      "4it [00:00, 2740.93it/s]"
     ]
    },
    {
     "name": "stdout",
     "output_type": "stream",
     "text": [
      "acc ==  0.75\n"
     ]
    },
    {
     "name": "stderr",
     "output_type": "stream",
     "text": [
      "\n"
     ]
    }
   ],
   "source": [
    "test_model(model, x_test, y_test)"
   ]
  },
  {
   "cell_type": "code",
   "execution_count": 209,
   "metadata": {
    "colab": {
     "base_uri": "https://localhost:8080/",
     "height": 168
    },
    "id": "UJY3I0cDc7jr",
    "outputId": "71cf7466-e518-4143-ec51-37f3d86e9d66"
   },
   "outputs": [
    {
     "data": {
      "image/png": "[encoded data removed]",
      "text/plain": [
       "<Figure size 720x504 with 4 Axes>"
      ]
     },
     "metadata": {
      "needs_background": "light"
     },
     "output_type": "display_data"
    }
   ],
   "source": [
    "fig = plt.figure(figsize=(10, 7))\n",
    "for i in range(0, 4):\n",
    "    fig.add_subplot(1, 4, i + 1)   \n",
    "    x = x_test[i]\n",
    "    x = np.squeeze(np.asarray(x).reshape(-1))\n",
    "    plt.imshow(x_test[i], cmap='binary')\n",
    "    plt.axis('off')\n",
    "    plt.title(argmax(model.forward(x)))"
   ]
  }
 ],
 "metadata": {
  "colab": {
   "provenance": []
  },
  "kernelspec": {
   "display_name": "Python 3 (ipykernel)",
   "language": "python",
   "name": "python3"
  },
  "language_info": {
   "codemirror_mode": {
    "name": "ipython",
    "version": 3
   },
   "file_extension": ".py",
   "mimetype": "text/x-python",
   "name": "python",
   "nbconvert_exporter": "python",
   "pygments_lexer": "ipython3",
   "version": "3.10.5"
  }
 },
 "nbformat": 4,
 "nbformat_minor": 1
}
